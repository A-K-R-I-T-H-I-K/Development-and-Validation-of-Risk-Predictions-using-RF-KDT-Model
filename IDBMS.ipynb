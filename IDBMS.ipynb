{
 "cells": [
  {
   "cell_type": "markdown",
   "id": "4d52c2bf",
   "metadata": {},
   "source": [
    "# Diabetes"
   ]
  },
  {
   "cell_type": "code",
   "execution_count": 1,
   "id": "d823ca36",
   "metadata": {},
   "outputs": [],
   "source": [
    "import pandas as pd\n",
    "from sklearn.model_selection import train_test_split\n",
    "from sklearn.metrics import accuracy_score\n",
    "from sklearn.neighbors import KNeighborsClassifier\n",
    "from sklearn.tree import DecisionTreeClassifier\n",
    "from sklearn.ensemble import RandomForestClassifier\n",
    "from sklearn.ensemble import VotingClassifier\n",
    "from sklearn.metrics import precision_score, recall_score\n",
    "import seaborn as sns"
   ]
  },
  {
   "cell_type": "code",
   "execution_count": 2,
   "id": "b8cc8a7d",
   "metadata": {
    "scrolled": true
   },
   "outputs": [
    {
     "data": {
      "text/html": [
       "<div>\n",
       "<style scoped>\n",
       "    .dataframe tbody tr th:only-of-type {\n",
       "        vertical-align: middle;\n",
       "    }\n",
       "\n",
       "    .dataframe tbody tr th {\n",
       "        vertical-align: top;\n",
       "    }\n",
       "\n",
       "    .dataframe thead th {\n",
       "        text-align: right;\n",
       "    }\n",
       "</style>\n",
       "<table border=\"1\" class=\"dataframe\">\n",
       "  <thead>\n",
       "    <tr style=\"text-align: right;\">\n",
       "      <th></th>\n",
       "      <th>Age</th>\n",
       "      <th>Sex</th>\n",
       "      <th>HighChol</th>\n",
       "      <th>CholCheck</th>\n",
       "      <th>BMI</th>\n",
       "      <th>Smoker</th>\n",
       "      <th>HeartDiseaseorAttack</th>\n",
       "      <th>PhysActivity</th>\n",
       "      <th>Fruits</th>\n",
       "      <th>Veggies</th>\n",
       "      <th>HvyAlcoholConsump</th>\n",
       "      <th>GenHlth</th>\n",
       "      <th>MentHlth</th>\n",
       "      <th>PhysHlth</th>\n",
       "      <th>DiffWalk</th>\n",
       "      <th>Stroke</th>\n",
       "      <th>HighBP</th>\n",
       "      <th>Diabetes</th>\n",
       "    </tr>\n",
       "  </thead>\n",
       "  <tbody>\n",
       "    <tr>\n",
       "      <th>0</th>\n",
       "      <td>4.0</td>\n",
       "      <td>1.0</td>\n",
       "      <td>0.0</td>\n",
       "      <td>1.0</td>\n",
       "      <td>26.0</td>\n",
       "      <td>0.0</td>\n",
       "      <td>0.0</td>\n",
       "      <td>1.0</td>\n",
       "      <td>0.0</td>\n",
       "      <td>1.0</td>\n",
       "      <td>0.0</td>\n",
       "      <td>3.0</td>\n",
       "      <td>5.0</td>\n",
       "      <td>30.0</td>\n",
       "      <td>0.0</td>\n",
       "      <td>0.0</td>\n",
       "      <td>1.0</td>\n",
       "      <td>0.0</td>\n",
       "    </tr>\n",
       "    <tr>\n",
       "      <th>1</th>\n",
       "      <td>12.0</td>\n",
       "      <td>1.0</td>\n",
       "      <td>1.0</td>\n",
       "      <td>1.0</td>\n",
       "      <td>26.0</td>\n",
       "      <td>1.0</td>\n",
       "      <td>0.0</td>\n",
       "      <td>0.0</td>\n",
       "      <td>1.0</td>\n",
       "      <td>0.0</td>\n",
       "      <td>0.0</td>\n",
       "      <td>3.0</td>\n",
       "      <td>0.0</td>\n",
       "      <td>0.0</td>\n",
       "      <td>0.0</td>\n",
       "      <td>1.0</td>\n",
       "      <td>1.0</td>\n",
       "      <td>0.0</td>\n",
       "    </tr>\n",
       "    <tr>\n",
       "      <th>2</th>\n",
       "      <td>13.0</td>\n",
       "      <td>1.0</td>\n",
       "      <td>0.0</td>\n",
       "      <td>1.0</td>\n",
       "      <td>26.0</td>\n",
       "      <td>0.0</td>\n",
       "      <td>0.0</td>\n",
       "      <td>1.0</td>\n",
       "      <td>1.0</td>\n",
       "      <td>1.0</td>\n",
       "      <td>0.0</td>\n",
       "      <td>1.0</td>\n",
       "      <td>0.0</td>\n",
       "      <td>10.0</td>\n",
       "      <td>0.0</td>\n",
       "      <td>0.0</td>\n",
       "      <td>0.0</td>\n",
       "      <td>0.0</td>\n",
       "    </tr>\n",
       "    <tr>\n",
       "      <th>3</th>\n",
       "      <td>11.0</td>\n",
       "      <td>1.0</td>\n",
       "      <td>1.0</td>\n",
       "      <td>1.0</td>\n",
       "      <td>28.0</td>\n",
       "      <td>1.0</td>\n",
       "      <td>0.0</td>\n",
       "      <td>1.0</td>\n",
       "      <td>1.0</td>\n",
       "      <td>1.0</td>\n",
       "      <td>0.0</td>\n",
       "      <td>3.0</td>\n",
       "      <td>0.0</td>\n",
       "      <td>3.0</td>\n",
       "      <td>0.0</td>\n",
       "      <td>0.0</td>\n",
       "      <td>1.0</td>\n",
       "      <td>0.0</td>\n",
       "    </tr>\n",
       "    <tr>\n",
       "      <th>4</th>\n",
       "      <td>8.0</td>\n",
       "      <td>0.0</td>\n",
       "      <td>0.0</td>\n",
       "      <td>1.0</td>\n",
       "      <td>29.0</td>\n",
       "      <td>1.0</td>\n",
       "      <td>0.0</td>\n",
       "      <td>1.0</td>\n",
       "      <td>1.0</td>\n",
       "      <td>1.0</td>\n",
       "      <td>0.0</td>\n",
       "      <td>2.0</td>\n",
       "      <td>0.0</td>\n",
       "      <td>0.0</td>\n",
       "      <td>0.0</td>\n",
       "      <td>0.0</td>\n",
       "      <td>0.0</td>\n",
       "      <td>0.0</td>\n",
       "    </tr>\n",
       "  </tbody>\n",
       "</table>\n",
       "</div>"
      ],
      "text/plain": [
       "    Age  Sex  HighChol  CholCheck   BMI  Smoker  HeartDiseaseorAttack  \\\n",
       "0   4.0  1.0       0.0        1.0  26.0     0.0                   0.0   \n",
       "1  12.0  1.0       1.0        1.0  26.0     1.0                   0.0   \n",
       "2  13.0  1.0       0.0        1.0  26.0     0.0                   0.0   \n",
       "3  11.0  1.0       1.0        1.0  28.0     1.0                   0.0   \n",
       "4   8.0  0.0       0.0        1.0  29.0     1.0                   0.0   \n",
       "\n",
       "   PhysActivity  Fruits  Veggies  HvyAlcoholConsump  GenHlth  MentHlth  \\\n",
       "0           1.0     0.0      1.0                0.0      3.0       5.0   \n",
       "1           0.0     1.0      0.0                0.0      3.0       0.0   \n",
       "2           1.0     1.0      1.0                0.0      1.0       0.0   \n",
       "3           1.0     1.0      1.0                0.0      3.0       0.0   \n",
       "4           1.0     1.0      1.0                0.0      2.0       0.0   \n",
       "\n",
       "   PhysHlth  DiffWalk  Stroke  HighBP  Diabetes  \n",
       "0      30.0       0.0     0.0     1.0       0.0  \n",
       "1       0.0       0.0     1.0     1.0       0.0  \n",
       "2      10.0       0.0     0.0     0.0       0.0  \n",
       "3       3.0       0.0     0.0     1.0       0.0  \n",
       "4       0.0       0.0     0.0     0.0       0.0  "
      ]
     },
     "execution_count": 2,
     "metadata": {},
     "output_type": "execute_result"
    }
   ],
   "source": [
    "df = pd.read_csv('/Users/rithikak/Downloads/archive/diabetes_data.csv')\n",
    "df.head()"
   ]
  },
  {
   "cell_type": "code",
   "execution_count": 3,
   "id": "68aa7467",
   "metadata": {},
   "outputs": [
    {
     "name": "stdout",
     "output_type": "stream",
     "text": [
      "<class 'pandas.core.frame.DataFrame'>\n",
      "RangeIndex: 70692 entries, 0 to 70691\n",
      "Data columns (total 18 columns):\n",
      " #   Column                Non-Null Count  Dtype  \n",
      "---  ------                --------------  -----  \n",
      " 0   Age                   70692 non-null  float64\n",
      " 1   Sex                   70692 non-null  float64\n",
      " 2   HighChol              70692 non-null  float64\n",
      " 3   CholCheck             70692 non-null  float64\n",
      " 4   BMI                   70692 non-null  float64\n",
      " 5   Smoker                70692 non-null  float64\n",
      " 6   HeartDiseaseorAttack  70692 non-null  float64\n",
      " 7   PhysActivity          70692 non-null  float64\n",
      " 8   Fruits                70692 non-null  float64\n",
      " 9   Veggies               70692 non-null  float64\n",
      " 10  HvyAlcoholConsump     70692 non-null  float64\n",
      " 11  GenHlth               70692 non-null  float64\n",
      " 12  MentHlth              70692 non-null  float64\n",
      " 13  PhysHlth              70692 non-null  float64\n",
      " 14  DiffWalk              70692 non-null  float64\n",
      " 15  Stroke                70692 non-null  float64\n",
      " 16  HighBP                70692 non-null  float64\n",
      " 17  Diabetes              70692 non-null  float64\n",
      "dtypes: float64(18)\n",
      "memory usage: 9.7 MB\n"
     ]
    }
   ],
   "source": [
    "df.info()"
   ]
  },
  {
   "cell_type": "code",
   "execution_count": 4,
   "id": "cd8945e5",
   "metadata": {},
   "outputs": [
    {
     "name": "stdout",
     "output_type": "stream",
     "text": [
      "Accuracy of the KNN Model: 70.87%\n"
     ]
    }
   ],
   "source": [
    "X = df.drop('Diabetes', axis=1)\n",
    "y = df['Diabetes']\n",
    "X_train, X_test, y_train, y_test = train_test_split(X, y, test_size=0.25, random_state=42)\n",
    "knn = KNeighborsClassifier(n_neighbors=5)\n",
    "knn.fit(X_train, y_train)\n",
    "y_pred = knn.predict(X_test)\n",
    "accuracy = accuracy_score(y_test, y_pred)\n",
    "precision = precision_score(y_test, y_pred)\n",
    "recall = recall_score(y_test, y_pred)\n",
    "print(\"Accuracy of the KNN Model: {:.2f}%\".format(accuracy * 100))"
   ]
  },
  {
   "cell_type": "code",
   "execution_count": 5,
   "id": "680cf3ff",
   "metadata": {},
   "outputs": [
    {
     "name": "stdout",
     "output_type": "stream",
     "text": [
      "Accuracy of the KNN Model: 70.56%\n"
     ]
    }
   ],
   "source": [
    "X = df.drop('Diabetes', axis=1)\n",
    "y = df['Diabetes']\n",
    "X_train, X_test, y_train, y_test = train_test_split(X, y, test_size=0.5, random_state=42)\n",
    "knn = KNeighborsClassifier(n_neighbors=5)\n",
    "knn.fit(X_train, y_train)\n",
    "y_pred = knn.predict(X_test)\n",
    "accuracy = accuracy_score(y_test, y_pred)\n",
    "precision = precision_score(y_test, y_pred)\n",
    "recall = recall_score(y_test, y_pred)\n",
    "print(\"Accuracy of the KNN Model: {:.2f}%\".format(accuracy * 100))"
   ]
  },
  {
   "cell_type": "code",
   "execution_count": 6,
   "id": "e511208c",
   "metadata": {},
   "outputs": [
    {
     "name": "stdout",
     "output_type": "stream",
     "text": [
      "Accuracy of the KNN Model: 70.13%\n"
     ]
    }
   ],
   "source": [
    "X = df.drop('Diabetes', axis=1)\n",
    "y = df['Diabetes']\n",
    "X_train, X_test, y_train, y_test = train_test_split(X, y, test_size=0.75, random_state=42)\n",
    "knn = KNeighborsClassifier(n_neighbors=5)\n",
    "knn.fit(X_train, y_train)\n",
    "y_pred = knn.predict(X_test)\n",
    "accuracy = accuracy_score(y_test, y_pred)\n",
    "precision = precision_score(y_test, y_pred)\n",
    "recall = recall_score(y_test, y_pred)\n",
    "print(\"Accuracy of the KNN Model: {:.2f}%\".format(accuracy * 100))"
   ]
  },
  {
   "cell_type": "code",
   "execution_count": 7,
   "id": "c5a19e0a",
   "metadata": {},
   "outputs": [
    {
     "name": "stdout",
     "output_type": "stream",
     "text": [
      "Accuracy of the Decision Tree Model: 71.69%\n"
     ]
    }
   ],
   "source": [
    "X = df.drop('Diabetes', axis=1)\n",
    "y = df['Diabetes']\n",
    "X_train, X_test, y_train, y_test = train_test_split(X, y, test_size=0.25, random_state=42)\n",
    "tree = DecisionTreeClassifier(max_depth=3, random_state=42)\n",
    "tree.fit(X_train, y_train)\n",
    "y_pred = tree.predict(X_test)\n",
    "accuracy = accuracy_score(y_test, y_pred)\n",
    "precision = precision_score(y_test, y_pred)\n",
    "recall = recall_score(y_test, y_pred)\n",
    "print(\"Accuracy of the Decision Tree Model: {:.2f}%\".format(accuracy * 100))"
   ]
  },
  {
   "cell_type": "code",
   "execution_count": 8,
   "id": "b7273a21",
   "metadata": {},
   "outputs": [
    {
     "name": "stdout",
     "output_type": "stream",
     "text": [
      "Accuracy of the Decision Tree Model: 71.61%\n"
     ]
    }
   ],
   "source": [
    "X = df.drop('Diabetes', axis=1)\n",
    "y = df['Diabetes']\n",
    "X_train, X_test, y_train, y_test = train_test_split(X, y, test_size=0.5, random_state=42)\n",
    "tree = DecisionTreeClassifier(max_depth=3, random_state=42)\n",
    "tree.fit(X_train, y_train)\n",
    "y_pred = tree.predict(X_test)\n",
    "accuracy = accuracy_score(y_test, y_pred)\n",
    "precision = precision_score(y_test, y_pred)\n",
    "recall = recall_score(y_test, y_pred)\n",
    "print(\"Accuracy of the Decision Tree Model: {:.2f}%\".format(accuracy * 100))"
   ]
  },
  {
   "cell_type": "code",
   "execution_count": 9,
   "id": "e9bf8e00",
   "metadata": {},
   "outputs": [
    {
     "name": "stdout",
     "output_type": "stream",
     "text": [
      "Accuracy of the Decision Tree Model: 71.67%\n"
     ]
    }
   ],
   "source": [
    "X = df.drop('Diabetes', axis=1)\n",
    "y = df['Diabetes']\n",
    "X_train, X_test, y_train, y_test = train_test_split(X, y, test_size=0.75, random_state=42)\n",
    "tree = DecisionTreeClassifier(max_depth=3, random_state=42)\n",
    "tree.fit(X_train, y_train)\n",
    "y_pred = tree.predict(X_test)\n",
    "accuracy = accuracy_score(y_test, y_pred)\n",
    "precision = precision_score(y_test, y_pred)\n",
    "recall = recall_score(y_test, y_pred)\n",
    "print(\"Accuracy of the Decision Tree Model: {:.2f}%\".format(accuracy * 100))"
   ]
  },
  {
   "cell_type": "code",
   "execution_count": 10,
   "id": "ba05ec30",
   "metadata": {},
   "outputs": [
    {
     "name": "stdout",
     "output_type": "stream",
     "text": [
      "Accuracy of the Random forest Model: 73.34%\n"
     ]
    }
   ],
   "source": [
    "X = df.drop('Diabetes', axis=1)\n",
    "y = df['Diabetes']\n",
    "X_train, X_test, y_train, y_test = train_test_split(X, y, test_size=0.25, random_state=42)\n",
    "rf = RandomForestClassifier(n_estimators=100, max_depth=3, random_state=42)\n",
    "rf.fit(X_train, y_train)\n",
    "y_pred = rf.predict(X_test)\n",
    "accuracy = accuracy_score(y_test, y_pred)\n",
    "precision = precision_score(y_test, y_pred)\n",
    "recall = recall_score(y_test, y_pred)\n",
    "print(\"Accuracy of the Random forest Model: {:.2f}%\".format(accuracy * 100))"
   ]
  },
  {
   "cell_type": "code",
   "execution_count": 11,
   "id": "ae19fac7",
   "metadata": {},
   "outputs": [
    {
     "name": "stdout",
     "output_type": "stream",
     "text": [
      "Accuracy of the Random forest Model: 73.28%\n"
     ]
    }
   ],
   "source": [
    "X = df.drop('Diabetes', axis=1)\n",
    "y = df['Diabetes']\n",
    "X_train, X_test, y_train, y_test = train_test_split(X, y, test_size=0.5, random_state=42)\n",
    "rf = RandomForestClassifier(n_estimators=100, max_depth=3, random_state=42)\n",
    "rf.fit(X_train, y_train)\n",
    "y_pred = rf.predict(X_test)\n",
    "accuracy = accuracy_score(y_test, y_pred)\n",
    "precision = precision_score(y_test, y_pred)\n",
    "recall = recall_score(y_test, y_pred)\n",
    "print(\"Accuracy of the Random forest Model: {:.2f}%\".format(accuracy * 100))"
   ]
  },
  {
   "cell_type": "code",
   "execution_count": 12,
   "id": "a33ca328",
   "metadata": {},
   "outputs": [
    {
     "name": "stdout",
     "output_type": "stream",
     "text": [
      "Accuracy of the Random forest Model: 73.66%\n"
     ]
    }
   ],
   "source": [
    "X = df.drop('Diabetes', axis=1)\n",
    "y = df['Diabetes']\n",
    "X_train, X_test, y_train, y_test = train_test_split(X, y, test_size=0.75, random_state=42)\n",
    "rf = RandomForestClassifier(n_estimators=100, max_depth=3, random_state=42)\n",
    "rf.fit(X_train, y_train)\n",
    "y_pred = rf.predict(X_test)\n",
    "accuracy = accuracy_score(y_test, y_pred)\n",
    "precision = precision_score(y_test, y_pred)\n",
    "recall = recall_score(y_test, y_pred)\n",
    "print(\"Accuracy of the Random forest Model: {:.2f}%\".format(accuracy * 100))"
   ]
  },
  {
   "cell_type": "code",
   "execution_count": 13,
   "id": "3bf0bf90",
   "metadata": {},
   "outputs": [
    {
     "name": "stdout",
     "output_type": "stream",
     "text": [
      "Accuracy of the Hybrid Model(KNN & RF): 71.74%\n"
     ]
    }
   ],
   "source": [
    "X = df.drop('Diabetes', axis=1)\n",
    "y = df['Diabetes']\n",
    "X_train, X_test, y_train, y_test = train_test_split(X, y, test_size=0.25, random_state=42)\n",
    "rf1 = RandomForestClassifier(n_estimators=100, max_depth=3, random_state=42)\n",
    "rf1.fit(X_train, y_train)\n",
    "knn1 = KNeighborsClassifier(n_neighbors=5)\n",
    "knn1.fit(X_train, y_train)\n",
    "y_pred_rf = rf1.predict(X_test)\n",
    "y_pred_knn = knn1.predict(X_test)\n",
    "y_pred_hybrid = []\n",
    "for i in range(len(y_test)):\n",
    "    if (y_pred_rf[i] + y_pred_knn[i]) > 1:\n",
    "        y_pred_hybrid.append(1)\n",
    "    else:\n",
    "        y_pred_hybrid.append(0)\n",
    "accuracy = accuracy_score(y_test, y_pred_hybrid)\n",
    "print(\"Accuracy of the Hybrid Model(KNN & RF): {:.2f}%\".format(accuracy * 100))"
   ]
  },
  {
   "cell_type": "code",
   "execution_count": 14,
   "id": "69bd5559",
   "metadata": {},
   "outputs": [
    {
     "name": "stdout",
     "output_type": "stream",
     "text": [
      "Accuracy of the Hybrid Model(KNN & RF): 71.53%\n"
     ]
    }
   ],
   "source": [
    "X = df.drop('Diabetes', axis=1)\n",
    "y = df['Diabetes']\n",
    "X_train, X_test, y_train, y_test = train_test_split(X, y, test_size=0.5, random_state=42)\n",
    "rf2 = RandomForestClassifier(n_estimators=100, max_depth=3, random_state=42)\n",
    "rf2.fit(X_train, y_train)\n",
    "knn2 = KNeighborsClassifier(n_neighbors=5)\n",
    "knn2.fit(X_train, y_train)\n",
    "y_pred_rf = rf2.predict(X_test)\n",
    "y_pred_knn = knn2.predict(X_test)\n",
    "y_pred_hybrid = []\n",
    "for i in range(len(y_test)):\n",
    "    if (y_pred_rf[i] + y_pred_knn[i]) > 1:\n",
    "        y_pred_hybrid.append(1)\n",
    "    else:\n",
    "        y_pred_hybrid.append(0)\n",
    "accuracy = accuracy_score(y_test, y_pred_hybrid)\n",
    "print(\"Accuracy of the Hybrid Model(KNN & RF): {:.2f}%\".format(accuracy * 100))"
   ]
  },
  {
   "cell_type": "code",
   "execution_count": 15,
   "id": "376badb5",
   "metadata": {},
   "outputs": [
    {
     "name": "stdout",
     "output_type": "stream",
     "text": [
      "Accuracy of the Hybrid Model(KNN & RF): 71.36%\n"
     ]
    }
   ],
   "source": [
    "X = df.drop('Diabetes', axis=1)\n",
    "y = df['Diabetes']\n",
    "X_train, X_test, y_train, y_test = train_test_split(X, y, test_size=0.75, random_state=42)\n",
    "rf3 = RandomForestClassifier(n_estimators=100, max_depth=3, random_state=42)\n",
    "rf3.fit(X_train, y_train)\n",
    "knn3 = KNeighborsClassifier(n_neighbors=5)\n",
    "knn3.fit(X_train, y_train)\n",
    "y_pred_rf = rf3.predict(X_test)\n",
    "y_pred_knn = knn3.predict(X_test)\n",
    "y_pred_hybrid = []\n",
    "for i in range(len(y_test)):\n",
    "    if (y_pred_rf[i] + y_pred_knn[i]) > 1:\n",
    "        y_pred_hybrid.append(1)\n",
    "    else:\n",
    "        y_pred_hybrid.append(0)\n",
    "accuracy = accuracy_score(y_test, y_pred_hybrid)\n",
    "print(\"Accuracy of the Hybrid Model(KNN & RF): {:.2f}%\".format(accuracy * 100))"
   ]
  },
  {
   "cell_type": "code",
   "execution_count": 16,
   "id": "240f8396",
   "metadata": {},
   "outputs": [
    {
     "name": "stdout",
     "output_type": "stream",
     "text": [
      "Accuracy of the Hybrid Model(RF & DT): 73.05%\n"
     ]
    }
   ],
   "source": [
    "X = df.drop('Diabetes', axis=1)\n",
    "y = df['Diabetes']\n",
    "X_train, X_test, y_train, y_test = train_test_split(X, y, test_size=0.25, random_state=42)\n",
    "rf1 = RandomForestClassifier(n_estimators=100, max_depth=3, random_state=42)\n",
    "rf1.fit(X_train, y_train)\n",
    "tree1 = DecisionTreeClassifier(max_depth=3, random_state=42)\n",
    "tree1.fit(X_train, y_train)\n",
    "y_pred_rf = rf1.predict(X_test)\n",
    "y_pred_tree = tree1.predict(X_test)\n",
    "y_pred_hybrid = []\n",
    "for i in range(len(y_test)):\n",
    "    if (y_pred_rf[i] + y_pred_tree[i]) >= 2:\n",
    "        y_pred_hybrid.append(1)\n",
    "    else:\n",
    "        y_pred_hybrid.append(0)\n",
    "accuracy = accuracy_score(y_test, y_pred_hybrid)\n",
    "print(\"Accuracy of the Hybrid Model(RF & DT): {:.2f}%\".format(accuracy * 100))"
   ]
  },
  {
   "cell_type": "code",
   "execution_count": 17,
   "id": "67fae379",
   "metadata": {},
   "outputs": [
    {
     "name": "stdout",
     "output_type": "stream",
     "text": [
      "Accuracy of the Hybrid Model(RF & DT): 72.99%\n"
     ]
    }
   ],
   "source": [
    "X = df.drop('Diabetes', axis=1)\n",
    "y = df['Diabetes']\n",
    "X_train, X_test, y_train, y_test = train_test_split(X, y, test_size=0.5, random_state=42)\n",
    "rf2 = RandomForestClassifier(n_estimators=100, max_depth=3, random_state=42)\n",
    "rf2.fit(X_train, y_train)\n",
    "tree2 = DecisionTreeClassifier(max_depth=3, random_state=42)\n",
    "tree2.fit(X_train, y_train)\n",
    "y_pred_rf = rf2.predict(X_test)\n",
    "y_pred_tree = tree2.predict(X_test)\n",
    "y_pred_hybrid = []\n",
    "for i in range(len(y_test)):\n",
    "    if (y_pred_rf[i] + y_pred_tree[i]) >= 2:\n",
    "        y_pred_hybrid.append(1)\n",
    "    else:\n",
    "        y_pred_hybrid.append(0)\n",
    "accuracy = accuracy_score(y_test, y_pred_hybrid)\n",
    "print(\"Accuracy of the Hybrid Model(RF & DT): {:.2f}%\".format(accuracy * 100))"
   ]
  },
  {
   "cell_type": "code",
   "execution_count": 18,
   "id": "0a08607b",
   "metadata": {},
   "outputs": [
    {
     "name": "stdout",
     "output_type": "stream",
     "text": [
      "Accuracy of the Hybrid Model(RF & DT): 73.43%\n"
     ]
    }
   ],
   "source": [
    "X = df.drop('Diabetes', axis=1)\n",
    "y = df['Diabetes']\n",
    "X_train, X_test, y_train, y_test = train_test_split(X, y, test_size=0.75, random_state=42)\n",
    "rf3 = RandomForestClassifier(n_estimators=100, max_depth=3, random_state=42)\n",
    "rf3.fit(X_train, y_train)\n",
    "tree3 = DecisionTreeClassifier(max_depth=3, random_state=42)\n",
    "tree3.fit(X_train, y_train)\n",
    "y_pred_rf = rf3.predict(X_test)\n",
    "y_pred_tree = tree3.predict(X_test)\n",
    "y_pred_hybrid = []\n",
    "for i in range(len(y_test)):\n",
    "    if (y_pred_rf[i] + y_pred_tree[i]) >= 2:\n",
    "        y_pred_hybrid.append(1)\n",
    "    else:\n",
    "        y_pred_hybrid.append(0)\n",
    "accuracy = accuracy_score(y_test, y_pred_hybrid)\n",
    "print(\"Accuracy of the Hybrid Model(RF & DT): {:.2f}%\".format(accuracy * 100))"
   ]
  },
  {
   "cell_type": "code",
   "execution_count": 21,
   "id": "3834f6ad",
   "metadata": {},
   "outputs": [
    {
     "name": "stdout",
     "output_type": "stream",
     "text": [
      "Accuracy of the Hybrid Model(KNN & DT): 72.74%\n"
     ]
    }
   ],
   "source": [
    "X = df.drop('Diabetes', axis=1)\n",
    "y = df['Diabetes']\n",
    "X_train, X_test, y_train, y_test = train_test_split(X, y, test_size=0.25, random_state=42)\n",
    "knn1 = KNeighborsClassifier(n_neighbors=5)\n",
    "dt1 = DecisionTreeClassifier(max_depth=3, random_state=42)\n",
    "hybrid_model = VotingClassifier(estimators=[('knn1', knn), ('dt1', dt1)], voting='soft')\n",
    "hybrid_model.fit(X_train, y_train)\n",
    "y_pred_hybrid = hybrid_model.predict(X_test)\n",
    "accuracy = accuracy_score(y_test, y_pred_hybrid)\n",
    "print(\"Accuracy of the Hybrid Model(KNN & DT): {:.2f}%\".format(accuracy * 100))"
   ]
  },
  {
   "cell_type": "code",
   "execution_count": 23,
   "id": "b7e1d7e2",
   "metadata": {},
   "outputs": [
    {
     "name": "stdout",
     "output_type": "stream",
     "text": [
      "Accuracy of the Hybrid Model(KNN & DT): 72.73%\n"
     ]
    }
   ],
   "source": [
    "X = df.drop('Diabetes', axis=1)\n",
    "y = df['Diabetes']\n",
    "X_train, X_test, y_train, y_test = train_test_split(X, y, test_size=0.5, random_state=42)\n",
    "knn2 = KNeighborsClassifier(n_neighbors=5)\n",
    "dt2 = DecisionTreeClassifier(max_depth=3, random_state=42)\n",
    "hybrid_model = VotingClassifier(estimators=[('knn2', knn), ('dt2', dt2)], voting='soft')\n",
    "hybrid_model.fit(X_train, y_train)\n",
    "y_pred_hybrid = hybrid_model.predict(X_test)\n",
    "accuracy = accuracy_score(y_test, y_pred_hybrid)\n",
    "print(\"Accuracy of the Hybrid Model(KNN & DT): {:.2f}%\".format(accuracy * 100))"
   ]
  },
  {
   "cell_type": "code",
   "execution_count": 24,
   "id": "8f51a316",
   "metadata": {},
   "outputs": [
    {
     "name": "stdout",
     "output_type": "stream",
     "text": [
      "Accuracy of the Hybrid Model(KNN & DT): 72.77%\n"
     ]
    }
   ],
   "source": [
    "X = df.drop('Diabetes', axis=1)\n",
    "y = df['Diabetes']\n",
    "X_train, X_test, y_train, y_test = train_test_split(X, y, test_size=0.75, random_state=42)\n",
    "knn3 = KNeighborsClassifier(n_neighbors=5)\n",
    "dt3 = DecisionTreeClassifier(max_depth=3, random_state=42)\n",
    "hybrid_model = VotingClassifier(estimators=[('knn3', knn), ('dt3', dt3)], voting='soft')\n",
    "hybrid_model.fit(X_train, y_train)\n",
    "y_pred_hybrid = hybrid_model.predict(X_test)\n",
    "accuracy = accuracy_score(y_test, y_pred_hybrid)\n",
    "print(\"Accuracy of the Hybrid Model(KNN & DT): {:.2f}%\".format(accuracy * 100))"
   ]
  },
  {
   "cell_type": "code",
   "execution_count": 26,
   "id": "0128f34e",
   "metadata": {},
   "outputs": [
    {
     "name": "stdout",
     "output_type": "stream",
     "text": [
      "Accuracy of the Hybrid Model(KNN & RF & DT): 73.54%\n"
     ]
    }
   ],
   "source": [
    "voting_classifier = VotingClassifier(\n",
    "    estimators=[('dt1', dt1), ('rf1', rf), ('knn1', knn)], voting='hard'\n",
    ")\n",
    "voting_classifier.fit(X_train, y_train)\n",
    "accuracy = voting_classifier.score(X_test, y_test)\n",
    "print(\"Accuracy of the Hybrid Model(KNN & RF & DT): {:.2f}%\".format(accuracy * 100))"
   ]
  },
  {
   "cell_type": "code",
   "execution_count": 27,
   "id": "0eea197d",
   "metadata": {},
   "outputs": [
    {
     "name": "stdout",
     "output_type": "stream",
     "text": [
      "Accuracy of the Hybrid Model(KNN & RF & DT): 73.54%\n"
     ]
    }
   ],
   "source": [
    "voting_classifier = VotingClassifier(\n",
    "    estimators=[('dt2', dt2), ('rf2', rf), ('knn2', knn)], voting='hard'\n",
    ")\n",
    "voting_classifier.fit(X_train, y_train)\n",
    "accuracy = voting_classifier.score(X_test, y_test)\n",
    "print(\"Accuracy of the Hybrid Model(KNN & RF & DT): {:.2f}%\".format(accuracy * 100))"
   ]
  },
  {
   "cell_type": "code",
   "execution_count": 28,
   "id": "53f94ca5",
   "metadata": {},
   "outputs": [
    {
     "name": "stdout",
     "output_type": "stream",
     "text": [
      "Accuracy of the Hybrid Model(KNN & RF & DT): 73.54%\n"
     ]
    }
   ],
   "source": [
    "voting_classifier = VotingClassifier(\n",
    "    estimators=[('dt3', dt3), ('rf3', rf), ('knn3', knn)], voting='hard'\n",
    ")\n",
    "voting_classifier.fit(X_train, y_train)\n",
    "accuracy = voting_classifier.score(X_test, y_test)\n",
    "print(\"Accuracy of the Hybrid Model(KNN & RF & DT): {:.2f}%\".format(accuracy * 100))"
   ]
  },
  {
   "cell_type": "markdown",
   "id": "d0504d08",
   "metadata": {},
   "source": [
    "# Visualization "
   ]
  },
  {
   "cell_type": "code",
   "execution_count": 42,
   "id": "3b78ee42",
   "metadata": {},
   "outputs": [
    {
     "data": {
      "image/png": "[encoded data removed]",
      "text/plain": [
       "<Figure size 432x288 with 1 Axes>"
      ]
     },
     "metadata": {},
     "output_type": "display_data"
    }
   ],
   "source": [
    "sns.countplot(data=df, x='Diabetes')\n",
    "value_counts = df['Diabetes'].value_counts()\n",
    "plt.text(0, value_counts[0]+1, value_counts[0], ha='right', fontsize=12)\n",
    "plt.text(1, value_counts[1]+1, value_counts[1], ha='right', fontsize=12)\n",
    "plt.xlabel('Diabetes')\n",
    "plt.ylabel('Count')\n",
    "plt.title('Distribution of Diabetes')\n",
    "plt.show()"
   ]
  },
  {
   "cell_type": "code",
   "execution_count": 44,
   "id": "2da89c1a",
   "metadata": {},
   "outputs": [
    {
     "data": {
      "image/png": "[encoded data removed]",
      "text/plain": [
       "<Figure size 432x288 with 1 Axes>"
      ]
     },
     "metadata": {},
     "output_type": "display_data"
    }
   ],
   "source": [
    "sns.countplot(data=df, x='HighBP')\n",
    "value_counts = df['HighBP'].value_counts()\n",
    "plt.text(0, value_counts[0]+1, value_counts[0], ha='right', fontsize=12)\n",
    "plt.text(1, value_counts[1]+1, value_counts[1], ha='right', fontsize=12)\n",
    "plt.xlabel('HighBP')\n",
    "plt.ylabel('Count')\n",
    "plt.title('Distribution of HighBP')\n",
    "plt.show()"
   ]
  },
  {
   "cell_type": "code",
   "execution_count": 45,
   "id": "253544c8",
   "metadata": {},
   "outputs": [
    {
     "data": {
      "image/png": "[encoded data removed]",
      "text/plain": [
       "<Figure size 432x288 with 1 Axes>"
      ]
     },
     "metadata": {},
     "output_type": "display_data"
    }
   ],
   "source": [
    "sns.countplot(data=df, x='Stroke')\n",
    "value_counts = df['Stroke'].value_counts()\n",
    "plt.text(0, value_counts[0]+1, value_counts[0], ha='right', fontsize=12)\n",
    "plt.text(1, value_counts[1]+1, value_counts[1], ha='right', fontsize=12)\n",
    "plt.xlabel('Stroke')\n",
    "plt.ylabel('Count')\n",
    "plt.title('Distribution of Stroke')\n",
    "plt.show()"
   ]
  },
  {
   "cell_type": "code",
   "execution_count": 40,
   "id": "b9642592",
   "metadata": {},
   "outputs": [
    {
     "data": {
      "text/plain": [
       "<AxesSubplot:>"
      ]
     },
     "execution_count": 40,
     "metadata": {},
     "output_type": "execute_result"
    },
    {
     "data": {
      "image/png": "[encoded data removed]",
      "text/plain": [
       "<Figure size 432x288 with 2 Axes>"
      ]
     },
     "metadata": {
      "needs_background": "light"
     },
     "output_type": "display_data"
    }
   ],
   "source": [
    "attributes = ['Age', 'Sex','HighChol','BMI','HighBP','HvyAlcoholConsump','Diabetes']\n",
    "corr_matrix = df[attributes].corr()\n",
    "sns.heatmap(corr_matrix, annot=True, cmap='coolwarm')"
   ]
  },
  {
   "cell_type": "code",
   "execution_count": 41,
   "id": "ae3d2165",
   "metadata": {},
   "outputs": [
    {
     "data": {
      "text/plain": [
       "<AxesSubplot:>"
      ]
     },
     "execution_count": 41,
     "metadata": {},
     "output_type": "execute_result"
    },
    {
     "data": {
      "image/png": "[encoded data removed]",
      "text/plain": [
       "<Figure size 432x288 with 2 Axes>"
      ]
     },
     "metadata": {
      "needs_background": "light"
     },
     "output_type": "display_data"
    }
   ],
   "source": [
    "attributes = ['Age', 'Sex','HighChol','BMI','HighBP','HvyAlcoholConsump','Stroke']\n",
    "corr_matrix = df[attributes].corr()\n",
    "sns.heatmap(corr_matrix, annot=True, cmap='coolwarm')"
   ]
  },
  {
   "cell_type": "markdown",
   "id": "ca89df66",
   "metadata": {},
   "source": [
    "# Stroke"
   ]
  },
  {
   "cell_type": "code",
   "execution_count": 7,
   "id": "f8ca7481",
   "metadata": {},
   "outputs": [
    {
     "name": "stdout",
     "output_type": "stream",
     "text": [
      "Accuracy of the KNN Model: 93.15%\n"
     ]
    }
   ],
   "source": [
    "X = df.drop('Stroke', axis=1)\n",
    "y = df['Stroke']\n",
    "X_train, X_test, y_train, y_test = train_test_split(X, y, test_size=0.25, random_state=42)\n",
    "knn1 = KNeighborsClassifier(n_neighbors=5)\n",
    "knn1.fit(X_train, y_train)\n",
    "y_pred = knn1.predict(X_test)\n",
    "accuracy = accuracy_score(y_test, y_pred)\n",
    "print(\"Accuracy of the KNN Model: {:.2f}%\".format(accuracy * 100))"
   ]
  },
  {
   "cell_type": "code",
   "execution_count": 8,
   "id": "0e29090a",
   "metadata": {},
   "outputs": [
    {
     "name": "stdout",
     "output_type": "stream",
     "text": [
      "Accuracy of the KNN Model: 93.14%\n"
     ]
    }
   ],
   "source": [
    "X = df.drop('Stroke', axis=1)\n",
    "y = df['Stroke']\n",
    "X_train, X_test, y_train, y_test = train_test_split(X, y, test_size=0.5, random_state=42)\n",
    "knn2 = KNeighborsClassifier(n_neighbors=5)\n",
    "knn2.fit(X_train, y_train)\n",
    "y_pred = knn2.predict(X_test)\n",
    "accuracy = accuracy_score(y_test, y_pred)\n",
    "print(\"Accuracy of the KNN Model: {:.2f}%\".format(accuracy * 100))"
   ]
  },
  {
   "cell_type": "code",
   "execution_count": 9,
   "id": "4f15caf1",
   "metadata": {},
   "outputs": [
    {
     "name": "stdout",
     "output_type": "stream",
     "text": [
      "Accuracy of the KNN Model: 93.14%\n"
     ]
    }
   ],
   "source": [
    "X = df.drop('Stroke', axis=1)\n",
    "y = df['Stroke']\n",
    "X_train, X_test, y_train, y_test = train_test_split(X, y, test_size=0.75, random_state=42)\n",
    "knn3 = KNeighborsClassifier(n_neighbors=5)\n",
    "knn3.fit(X_train, y_train)\n",
    "y_pred = knn3.predict(X_test)\n",
    "accuracy = accuracy_score(y_test, y_pred)\n",
    "print(\"Accuracy of the KNN Model: {:.2f}%\".format(accuracy * 100))"
   ]
  },
  {
   "cell_type": "code",
   "execution_count": 14,
   "id": "1797bcb3",
   "metadata": {},
   "outputs": [
    {
     "name": "stdout",
     "output_type": "stream",
     "text": [
      "Accuracy of the Decision Tree Model: 93.67%\n"
     ]
    }
   ],
   "source": [
    "X = df.drop('Stroke', axis=1)\n",
    "y = df['Stroke']\n",
    "X_train, X_test, y_train, y_test = train_test_split(X, y, test_size=0.25, random_state=42)\n",
    "tree = DecisionTreeClassifier(max_depth=3, random_state=42)\n",
    "tree.fit(X_train, y_train)\n",
    "y_pred = tree.predict(X_test)\n",
    "accuracy = accuracy_score(y_test, y_pred)\n",
    "print(\"Accuracy of the Decision Tree Model: {:.2f}%\".format(accuracy * 100))"
   ]
  },
  {
   "cell_type": "code",
   "execution_count": 15,
   "id": "5770fc7d",
   "metadata": {},
   "outputs": [
    {
     "name": "stdout",
     "output_type": "stream",
     "text": [
      "Accuracy of the Decision Tree Model: 93.72%\n"
     ]
    }
   ],
   "source": [
    "X = df.drop('Stroke', axis=1)\n",
    "y = df['Stroke']\n",
    "X_train, X_test, y_train, y_test = train_test_split(X, y, test_size=0.5, random_state=42)\n",
    "tree = DecisionTreeClassifier(max_depth=3, random_state=42)\n",
    "tree.fit(X_train, y_train)\n",
    "y_pred = tree.predict(X_test)\n",
    "accuracy = accuracy_score(y_test, y_pred)\n",
    "print(\"Accuracy of the Decision Tree Model: {:.2f}%\".format(accuracy * 100))"
   ]
  },
  {
   "cell_type": "code",
   "execution_count": 16,
   "id": "f43b0b13",
   "metadata": {},
   "outputs": [
    {
     "name": "stdout",
     "output_type": "stream",
     "text": [
      "Accuracy of the Decision Tree Model: 93.74%\n"
     ]
    }
   ],
   "source": [
    "X = df.drop('Stroke', axis=1)\n",
    "y = df['Stroke']\n",
    "X_train, X_test, y_train, y_test = train_test_split(X, y, test_size=0.75, random_state=42)\n",
    "tree = DecisionTreeClassifier(max_depth=3, random_state=42)\n",
    "tree.fit(X_train, y_train)\n",
    "y_pred = tree.predict(X_test)\n",
    "accuracy = accuracy_score(y_test, y_pred)\n",
    "print(\"Accuracy of the Decision Tree Model: {:.2f}%\".format(accuracy * 100))"
   ]
  },
  {
   "cell_type": "code",
   "execution_count": 13,
   "id": "d81de42b",
   "metadata": {},
   "outputs": [
    {
     "name": "stdout",
     "output_type": "stream",
     "text": [
      "Accuracy of the Random forest Model: 93.67%\n"
     ]
    }
   ],
   "source": [
    "X = df.drop('Stroke', axis=1)\n",
    "y = df['Stroke']\n",
    "X_train, X_test, y_train, y_test = train_test_split(X, y, test_size=0.25, random_state=42)\n",
    "rf = RandomForestClassifier(n_estimators=100, max_depth=3, random_state=42)\n",
    "rf.fit(X_train, y_train)\n",
    "y_pred = rf.predict(X_test)\n",
    "accuracy = accuracy_score(y_test, y_pred)\n",
    "print(\"Accuracy of the Random forest Model: {:.2f}%\".format(accuracy * 100))"
   ]
  },
  {
   "cell_type": "code",
   "execution_count": 10,
   "id": "597db64d",
   "metadata": {},
   "outputs": [
    {
     "name": "stdout",
     "output_type": "stream",
     "text": [
      "Accuracy of the Random forest Model: 93.72%\n"
     ]
    }
   ],
   "source": [
    "X = df.drop('Stroke', axis=1)\n",
    "y = df['Stroke']\n",
    "X_train, X_test, y_train, y_test = train_test_split(X, y, test_size=0.5, random_state=42)\n",
    "rf = RandomForestClassifier(n_estimators=100, max_depth=3, random_state=42)\n",
    "rf.fit(X_train, y_train)\n",
    "y_pred = rf.predict(X_test)\n",
    "accuracy = accuracy_score(y_test, y_pred)\n",
    "print(\"Accuracy of the Random forest Model: {:.2f}%\".format(accuracy * 100))"
   ]
  },
  {
   "cell_type": "code",
   "execution_count": 11,
   "id": "e34533b3",
   "metadata": {},
   "outputs": [
    {
     "name": "stdout",
     "output_type": "stream",
     "text": [
      "Accuracy of the Random forest Model: 93.74%\n"
     ]
    }
   ],
   "source": [
    "X = df.drop('Stroke', axis=1)\n",
    "y = df['Stroke']\n",
    "X_train, X_test, y_train, y_test = train_test_split(X, y, test_size=0.75, random_state=42)\n",
    "rf = RandomForestClassifier(n_estimators=100, max_depth=3, random_state=42)\n",
    "rf.fit(X_train, y_train)\n",
    "y_pred = rf.predict(X_test)\n",
    "accuracy = accuracy_score(y_test, y_pred)\n",
    "print(\"Accuracy of the Random forest Model: {:.2f}%\".format(accuracy * 100))"
   ]
  },
  {
   "cell_type": "code",
   "execution_count": 27,
   "id": "1352c341",
   "metadata": {},
   "outputs": [
    {
     "name": "stdout",
     "output_type": "stream",
     "text": [
      "Accuracy of the Hybrid Model(KNN & RF): 93.67%\n"
     ]
    }
   ],
   "source": [
    "X = df.drop('Stroke', axis=1)\n",
    "y = df['Stroke']\n",
    "X_train, X_test, y_train, y_test = train_test_split(X, y, test_size=0.25, random_state=42)\n",
    "rf1 = RandomForestClassifier(n_estimators=100, max_depth=3, random_state=42)\n",
    "rf1.fit(X_train, y_train)\n",
    "knn1 = KNeighborsClassifier(n_neighbors=5)\n",
    "knn1.fit(X_train, y_train)\n",
    "y_pred_rf = rf1.predict(X_test)\n",
    "y_pred_knn = knn1.predict(X_test)\n",
    "y_pred_hybrid = []\n",
    "for i in range(len(y_test)):\n",
    "    if (y_pred_rf[i] + y_pred_knn[i]) > 1:\n",
    "        y_pred_hybrid.append(1)\n",
    "    else:\n",
    "        y_pred_hybrid.append(0)\n",
    "accuracy = accuracy_score(y_test, y_pred_hybrid)\n",
    "print(\"Accuracy of the Hybrid Model(KNN & RF): {:.2f}%\".format(accuracy * 100))"
   ]
  },
  {
   "cell_type": "code",
   "execution_count": 28,
   "id": "54c5dee8",
   "metadata": {},
   "outputs": [
    {
     "name": "stdout",
     "output_type": "stream",
     "text": [
      "Accuracy of the Hybrid Model(KNN & RF): 93.72%\n"
     ]
    }
   ],
   "source": [
    "X = df.drop('Stroke', axis=1)\n",
    "y = df['Stroke']\n",
    "X_train, X_test, y_train, y_test = train_test_split(X, y, test_size=0.5, random_state=42)\n",
    "rf2 = RandomForestClassifier(n_estimators=100, max_depth=3, random_state=42)\n",
    "rf2.fit(X_train, y_train)\n",
    "knn2 = KNeighborsClassifier(n_neighbors=5)\n",
    "knn2.fit(X_train, y_train)\n",
    "y_pred_rf = rf2.predict(X_test)\n",
    "y_pred_knn = knn2.predict(X_test)\n",
    "y_pred_hybrid = []\n",
    "for i in range(len(y_test)):\n",
    "    if (y_pred_rf[i] + y_pred_knn[i]) > 1:\n",
    "        y_pred_hybrid.append(1)\n",
    "    else:\n",
    "        y_pred_hybrid.append(0)\n",
    "accuracy = accuracy_score(y_test, y_pred_hybrid)\n",
    "print(\"Accuracy of the Hybrid Model(KNN & RF): {:.2f}%\".format(accuracy * 100))"
   ]
  },
  {
   "cell_type": "code",
   "execution_count": 29,
   "id": "f7f81fd6",
   "metadata": {},
   "outputs": [
    {
     "name": "stdout",
     "output_type": "stream",
     "text": [
      "Accuracy of the Hybrid Model(KNN & RF): 93.74%\n"
     ]
    }
   ],
   "source": [
    "X = df.drop('Stroke', axis=1)\n",
    "y = df['Stroke']\n",
    "X_train, X_test, y_train, y_test = train_test_split(X, y, test_size=0.75, random_state=42)\n",
    "rf3 = RandomForestClassifier(n_estimators=100, max_depth=3, random_state=42)\n",
    "rf3.fit(X_train, y_train)\n",
    "knn3 = KNeighborsClassifier(n_neighbors=5)\n",
    "knn3.fit(X_train, y_train)\n",
    "y_pred_rf = rf3.predict(X_test)\n",
    "y_pred_knn = knn3.predict(X_test)\n",
    "y_pred_hybrid = []\n",
    "for i in range(len(y_test)):\n",
    "    if (y_pred_rf[i] + y_pred_knn[i]) > 1:\n",
    "        y_pred_hybrid.append(1)\n",
    "    else:\n",
    "        y_pred_hybrid.append(0)\n",
    "accuracy = accuracy_score(y_test, y_pred_hybrid)\n",
    "print(\"Accuracy of the Hybrid Model(KNN & RF): {:.2f}%\".format(accuracy * 100))"
   ]
  },
  {
   "cell_type": "code",
   "execution_count": 30,
   "id": "6a04fd11",
   "metadata": {},
   "outputs": [
    {
     "name": "stdout",
     "output_type": "stream",
     "text": [
      "Accuracy of the Hybrid Model(RF & DT): 93.67%\n"
     ]
    }
   ],
   "source": [
    "X = df.drop('Stroke', axis=1)\n",
    "y = df['Stroke']\n",
    "X_train, X_test, y_train, y_test = train_test_split(X, y, test_size=0.25, random_state=42)\n",
    "rf1 = RandomForestClassifier(n_estimators=100, max_depth=3, random_state=42)\n",
    "rf1.fit(X_train, y_train)\n",
    "tree1 = DecisionTreeClassifier(max_depth=3, random_state=42)\n",
    "tree1.fit(X_train, y_train)\n",
    "y_pred_rf = rf1.predict(X_test)\n",
    "y_pred_tree = tree1.predict(X_test)\n",
    "y_pred_hybrid = []\n",
    "for i in range(len(y_test)):\n",
    "    if (y_pred_rf[i] + y_pred_tree[i]) >= 2:\n",
    "        y_pred_hybrid.append(1)\n",
    "    else:\n",
    "        y_pred_hybrid.append(0)\n",
    "accuracy = accuracy_score(y_test, y_pred_hybrid)\n",
    "print(\"Accuracy of the Hybrid Model(RF & DT): {:.2f}%\".format(accuracy * 100))"
   ]
  },
  {
   "cell_type": "code",
   "execution_count": 31,
   "id": "a98c7620",
   "metadata": {},
   "outputs": [
    {
     "name": "stdout",
     "output_type": "stream",
     "text": [
      "Accuracy of the Hybrid Model(RF & DT): 93.72%\n"
     ]
    }
   ],
   "source": [
    "X = df.drop('Stroke', axis=1)\n",
    "y = df['Stroke']\n",
    "X_train, X_test, y_train, y_test = train_test_split(X, y, test_size=0.5, random_state=42)\n",
    "rf2 = RandomForestClassifier(n_estimators=100, max_depth=3, random_state=42)\n",
    "rf2.fit(X_train, y_train)\n",
    "tree2 = DecisionTreeClassifier(max_depth=3, random_state=42)\n",
    "tree2.fit(X_train, y_train)\n",
    "y_pred_rf = rf2.predict(X_test)\n",
    "y_pred_tree = tree2.predict(X_test)\n",
    "y_pred_hybrid = []\n",
    "for i in range(len(y_test)):\n",
    "    if (y_pred_rf[i] + y_pred_tree[i]) >= 2:\n",
    "        y_pred_hybrid.append(1)\n",
    "    else:\n",
    "        y_pred_hybrid.append(0)\n",
    "accuracy = accuracy_score(y_test, y_pred_hybrid)\n",
    "print(\"Accuracy of the Hybrid Model(RF & DT): {:.2f}%\".format(accuracy * 100))"
   ]
  },
  {
   "cell_type": "code",
   "execution_count": 32,
   "id": "6e0cf354",
   "metadata": {},
   "outputs": [
    {
     "name": "stdout",
     "output_type": "stream",
     "text": [
      "Accuracy of the Hybrid Model(RF & DT): 93.74%\n"
     ]
    }
   ],
   "source": [
    "X = df.drop('Stroke', axis=1)\n",
    "y = df['Stroke']\n",
    "X_train, X_test, y_train, y_test = train_test_split(X, y, test_size=0.75, random_state=42)\n",
    "rf3 = RandomForestClassifier(n_estimators=100, max_depth=3, random_state=42)\n",
    "rf3.fit(X_train, y_train)\n",
    "tree3 = DecisionTreeClassifier(max_depth=3, random_state=42)\n",
    "tree3.fit(X_train, y_train)\n",
    "y_pred_rf = rf3.predict(X_test)\n",
    "y_pred_tree = tree3.predict(X_test)\n",
    "y_pred_hybrid = []\n",
    "for i in range(len(y_test)):\n",
    "    if (y_pred_rf[i] + y_pred_tree[i]) >= 2:\n",
    "        y_pred_hybrid.append(1)\n",
    "    else:\n",
    "        y_pred_hybrid.append(0)\n",
    "accuracy = accuracy_score(y_test, y_pred_hybrid)\n",
    "print(\"Accuracy of the Hybrid Model(RF & DT): {:.2f}%\".format(accuracy * 100))"
   ]
  },
  {
   "cell_type": "code",
   "execution_count": 33,
   "id": "8e5d26b0",
   "metadata": {},
   "outputs": [
    {
     "name": "stdout",
     "output_type": "stream",
     "text": [
      "Accuracy of the Hybrid Model(KNN & DT): 93.64%\n"
     ]
    }
   ],
   "source": [
    "X = df.drop('Stroke', axis=1)\n",
    "y = df['Stroke']\n",
    "X_train, X_test, y_train, y_test = train_test_split(X, y, test_size=0.25, random_state=42)\n",
    "knn1 = KNeighborsClassifier(n_neighbors=5)\n",
    "dt1 = DecisionTreeClassifier(max_depth=3, random_state=42)\n",
    "hybrid_model = VotingClassifier(estimators=[('knn1', knn), ('dt1', dt)], voting='soft')\n",
    "hybrid_model.fit(X_train, y_train)\n",
    "y_pred_hybrid = hybrid_model.predict(X_test)\n",
    "accuracy = accuracy_score(y_test, y_pred_hybrid)\n",
    "print(\"Accuracy of the Hybrid Model(KNN & DT): {:.2f}%\".format(accuracy * 100))"
   ]
  },
  {
   "cell_type": "code",
   "execution_count": 34,
   "id": "6e3377c5",
   "metadata": {},
   "outputs": [
    {
     "name": "stdout",
     "output_type": "stream",
     "text": [
      "Accuracy of the Hybrid Model(KNN & DT): 93.69%\n"
     ]
    }
   ],
   "source": [
    "X = df.drop('Stroke', axis=1)\n",
    "y = df['Stroke']\n",
    "X_train, X_test, y_train, y_test = train_test_split(X, y, test_size=0.5, random_state=42)\n",
    "knn2 = KNeighborsClassifier(n_neighbors=5)\n",
    "dt2 = DecisionTreeClassifier(max_depth=3, random_state=42)\n",
    "hybrid_model = VotingClassifier(estimators=[('knn2', knn), ('dt2', dt)], voting='soft')\n",
    "hybrid_model.fit(X_train, y_train)\n",
    "y_pred_hybrid = hybrid_model.predict(X_test)\n",
    "accuracy = accuracy_score(y_test, y_pred_hybrid)\n",
    "print(\"Accuracy of the Hybrid Model(KNN & DT): {:.2f}%\".format(accuracy * 100))"
   ]
  },
  {
   "cell_type": "code",
   "execution_count": 35,
   "id": "f609bd89",
   "metadata": {},
   "outputs": [
    {
     "name": "stdout",
     "output_type": "stream",
     "text": [
      "Accuracy of the Hybrid Model(KNN & DT): 93.72%\n"
     ]
    }
   ],
   "source": [
    "X = df.drop('Stroke', axis=1)\n",
    "y = df['Stroke']\n",
    "X_train, X_test, y_train, y_test = train_test_split(X, y, test_size=0.75, random_state=42)\n",
    "knn3 = KNeighborsClassifier(n_neighbors=5)\n",
    "dt3 = DecisionTreeClassifier(max_depth=3, random_state=42)\n",
    "hybrid_model = VotingClassifier(estimators=[('knn3', knn), ('dt3', dt)], voting='soft')\n",
    "hybrid_model.fit(X_train, y_train)\n",
    "y_pred_hybrid = hybrid_model.predict(X_test)\n",
    "accuracy = accuracy_score(y_test, y_pred_hybrid)\n",
    "print(\"Accuracy of the Hybrid Model(KNN & DT): {:.2f}%\".format(accuracy * 100))"
   ]
  },
  {
   "cell_type": "code",
   "execution_count": 36,
   "id": "fabd5ce1",
   "metadata": {},
   "outputs": [
    {
     "name": "stdout",
     "output_type": "stream",
     "text": [
      "Accuracy of the Hybrid Model(KNN & RF & DT): 93.74%\n"
     ]
    }
   ],
   "source": [
    "voting_classifier = VotingClassifier(\n",
    "    estimators=[('dt1', dt), ('rf1', rf), ('knn1', knn)], voting='hard'\n",
    ")\n",
    "voting_classifier.fit(X_train, y_train)\n",
    "accuracy = voting_classifier.score(X_test, y_test)\n",
    "print(\"Accuracy of the Hybrid Model(KNN & RF & DT): {:.2f}%\".format(accuracy * 100))"
   ]
  },
  {
   "cell_type": "code",
   "execution_count": 37,
   "id": "a1f94bbc",
   "metadata": {},
   "outputs": [
    {
     "name": "stdout",
     "output_type": "stream",
     "text": [
      "Accuracy of the Hybrid Model(KNN & RF & DT): 93.74%\n"
     ]
    }
   ],
   "source": [
    "voting_classifier = VotingClassifier(\n",
    "    estimators=[('dt2', dt), ('rf2', rf), ('knn2', knn)], voting='hard'\n",
    ")\n",
    "voting_classifier.fit(X_train, y_train)\n",
    "accuracy = voting_classifier.score(X_test, y_test)\n",
    "print(\"Accuracy of the Hybrid Model(KNN & RF & DT): {:.2f}%\".format(accuracy * 100))"
   ]
  },
  {
   "cell_type": "code",
   "execution_count": 38,
   "id": "f06d413a",
   "metadata": {},
   "outputs": [
    {
     "name": "stdout",
     "output_type": "stream",
     "text": [
      "Accuracy of the Hybrid Model(KNN & RF & DT): 93.74%\n"
     ]
    }
   ],
   "source": [
    "voting_classifier = VotingClassifier(\n",
    "    estimators=[('dt3', dt), ('rf3', rf), ('knn3', knn)], voting='hard'\n",
    ")\n",
    "voting_classifier.fit(X_train, y_train)\n",
    "accuracy = voting_classifier.score(X_test, y_test)\n",
    "print(\"Accuracy of the Hybrid Model(KNN & RF & DT): {:.2f}%\".format(accuracy * 100))"
   ]
  },
  {
   "cell_type": "markdown",
   "id": "3d5aba05",
   "metadata": {},
   "source": [
    "# Hypertension"
   ]
  },
  {
   "cell_type": "code",
   "execution_count": 40,
   "id": "0930c01c",
   "metadata": {},
   "outputs": [
    {
     "data": {
      "text/html": [
       "<div>\n",
       "<style scoped>\n",
       "    .dataframe tbody tr th:only-of-type {\n",
       "        vertical-align: middle;\n",
       "    }\n",
       "\n",
       "    .dataframe tbody tr th {\n",
       "        vertical-align: top;\n",
       "    }\n",
       "\n",
       "    .dataframe thead th {\n",
       "        text-align: right;\n",
       "    }\n",
       "</style>\n",
       "<table border=\"1\" class=\"dataframe\">\n",
       "  <thead>\n",
       "    <tr style=\"text-align: right;\">\n",
       "      <th></th>\n",
       "      <th>age</th>\n",
       "      <th>sex</th>\n",
       "      <th>cp</th>\n",
       "      <th>trestbps</th>\n",
       "      <th>chol</th>\n",
       "      <th>fbs</th>\n",
       "      <th>restecg</th>\n",
       "      <th>thalach</th>\n",
       "      <th>exang</th>\n",
       "      <th>oldpeak</th>\n",
       "      <th>slope</th>\n",
       "      <th>ca</th>\n",
       "      <th>thal</th>\n",
       "      <th>target</th>\n",
       "    </tr>\n",
       "  </thead>\n",
       "  <tbody>\n",
       "    <tr>\n",
       "      <th>0</th>\n",
       "      <td>57.0</td>\n",
       "      <td>1.0</td>\n",
       "      <td>3</td>\n",
       "      <td>145</td>\n",
       "      <td>233</td>\n",
       "      <td>1</td>\n",
       "      <td>0</td>\n",
       "      <td>150</td>\n",
       "      <td>0</td>\n",
       "      <td>2.3</td>\n",
       "      <td>0</td>\n",
       "      <td>0</td>\n",
       "      <td>1</td>\n",
       "      <td>1</td>\n",
       "    </tr>\n",
       "    <tr>\n",
       "      <th>1</th>\n",
       "      <td>64.0</td>\n",
       "      <td>0.0</td>\n",
       "      <td>2</td>\n",
       "      <td>130</td>\n",
       "      <td>250</td>\n",
       "      <td>0</td>\n",
       "      <td>1</td>\n",
       "      <td>187</td>\n",
       "      <td>0</td>\n",
       "      <td>3.5</td>\n",
       "      <td>0</td>\n",
       "      <td>0</td>\n",
       "      <td>2</td>\n",
       "      <td>1</td>\n",
       "    </tr>\n",
       "    <tr>\n",
       "      <th>2</th>\n",
       "      <td>52.0</td>\n",
       "      <td>1.0</td>\n",
       "      <td>1</td>\n",
       "      <td>130</td>\n",
       "      <td>204</td>\n",
       "      <td>0</td>\n",
       "      <td>0</td>\n",
       "      <td>172</td>\n",
       "      <td>0</td>\n",
       "      <td>1.4</td>\n",
       "      <td>2</td>\n",
       "      <td>0</td>\n",
       "      <td>2</td>\n",
       "      <td>1</td>\n",
       "    </tr>\n",
       "    <tr>\n",
       "      <th>3</th>\n",
       "      <td>56.0</td>\n",
       "      <td>0.0</td>\n",
       "      <td>1</td>\n",
       "      <td>120</td>\n",
       "      <td>236</td>\n",
       "      <td>0</td>\n",
       "      <td>1</td>\n",
       "      <td>178</td>\n",
       "      <td>0</td>\n",
       "      <td>0.8</td>\n",
       "      <td>2</td>\n",
       "      <td>0</td>\n",
       "      <td>2</td>\n",
       "      <td>1</td>\n",
       "    </tr>\n",
       "    <tr>\n",
       "      <th>4</th>\n",
       "      <td>66.0</td>\n",
       "      <td>0.0</td>\n",
       "      <td>0</td>\n",
       "      <td>120</td>\n",
       "      <td>354</td>\n",
       "      <td>0</td>\n",
       "      <td>1</td>\n",
       "      <td>163</td>\n",
       "      <td>1</td>\n",
       "      <td>0.6</td>\n",
       "      <td>2</td>\n",
       "      <td>0</td>\n",
       "      <td>2</td>\n",
       "      <td>1</td>\n",
       "    </tr>\n",
       "  </tbody>\n",
       "</table>\n",
       "</div>"
      ],
      "text/plain": [
       "    age  sex  cp  trestbps  chol  fbs  restecg  thalach  exang  oldpeak  \\\n",
       "0  57.0  1.0   3       145   233    1        0      150      0      2.3   \n",
       "1  64.0  0.0   2       130   250    0        1      187      0      3.5   \n",
       "2  52.0  1.0   1       130   204    0        0      172      0      1.4   \n",
       "3  56.0  0.0   1       120   236    0        1      178      0      0.8   \n",
       "4  66.0  0.0   0       120   354    0        1      163      1      0.6   \n",
       "\n",
       "   slope  ca  thal  target  \n",
       "0      0   0     1       1  \n",
       "1      0   0     2       1  \n",
       "2      2   0     2       1  \n",
       "3      2   0     2       1  \n",
       "4      2   0     2       1  "
      ]
     },
     "execution_count": 40,
     "metadata": {},
     "output_type": "execute_result"
    }
   ],
   "source": [
    "df = pd.read_csv('/Users/rithikak/Downloads/archive/hypertension_data.csv')\n",
    "df.head()"
   ]
  },
  {
   "cell_type": "code",
   "execution_count": 41,
   "id": "4ddf9ff1",
   "metadata": {},
   "outputs": [
    {
     "name": "stdout",
     "output_type": "stream",
     "text": [
      "<class 'pandas.core.frame.DataFrame'>\n",
      "RangeIndex: 26083 entries, 0 to 26082\n",
      "Data columns (total 14 columns):\n",
      " #   Column    Non-Null Count  Dtype  \n",
      "---  ------    --------------  -----  \n",
      " 0   age       26083 non-null  float64\n",
      " 1   sex       26058 non-null  float64\n",
      " 2   cp        26083 non-null  int64  \n",
      " 3   trestbps  26083 non-null  int64  \n",
      " 4   chol      26083 non-null  int64  \n",
      " 5   fbs       26083 non-null  int64  \n",
      " 6   restecg   26083 non-null  int64  \n",
      " 7   thalach   26083 non-null  int64  \n",
      " 8   exang     26083 non-null  int64  \n",
      " 9   oldpeak   26083 non-null  float64\n",
      " 10  slope     26083 non-null  int64  \n",
      " 11  ca        26083 non-null  int64  \n",
      " 12  thal      26083 non-null  int64  \n",
      " 13  target    26083 non-null  int64  \n",
      "dtypes: float64(3), int64(11)\n",
      "memory usage: 2.8 MB\n"
     ]
    }
   ],
   "source": [
    "df.info()"
   ]
  },
  {
   "cell_type": "code",
   "execution_count": 42,
   "id": "2767e77a",
   "metadata": {},
   "outputs": [],
   "source": [
    "df = df.fillna(df.mode().iloc[0])"
   ]
  },
  {
   "cell_type": "code",
   "execution_count": 43,
   "id": "7000b1be",
   "metadata": {},
   "outputs": [
    {
     "name": "stdout",
     "output_type": "stream",
     "text": [
      "Accuracy of the KNN Model: 99.77%\n"
     ]
    }
   ],
   "source": [
    "X = df.drop('target', axis=1)\n",
    "y = df['target']\n",
    "X_train, X_test, y_train, y_test = train_test_split(X, y, test_size=0.25, random_state=42)\n",
    "knn = KNeighborsClassifier(n_neighbors=5)\n",
    "knn.fit(X_train, y_train)\n",
    "y_pred = knn.predict(X_test)\n",
    "accuracy = accuracy_score(y_test, y_pred)\n",
    "print(\"Accuracy of the KNN Model: {:.2f}%\".format(accuracy * 100))"
   ]
  },
  {
   "cell_type": "code",
   "execution_count": 44,
   "id": "40df2108",
   "metadata": {},
   "outputs": [
    {
     "name": "stdout",
     "output_type": "stream",
     "text": [
      "Accuracy of the KNN Model: 99.53%\n"
     ]
    }
   ],
   "source": [
    "X = df.drop('target', axis=1)\n",
    "y = df['target']\n",
    "X_train, X_test, y_train, y_test = train_test_split(X, y, test_size=0.5, random_state=42)\n",
    "knn = KNeighborsClassifier(n_neighbors=5)\n",
    "knn.fit(X_train, y_train)\n",
    "y_pred = knn.predict(X_test)\n",
    "accuracy = accuracy_score(y_test, y_pred)\n",
    "print(\"Accuracy of the KNN Model: {:.2f}%\".format(accuracy * 100))"
   ]
  },
  {
   "cell_type": "code",
   "execution_count": 45,
   "id": "6a5d1670",
   "metadata": {},
   "outputs": [
    {
     "name": "stdout",
     "output_type": "stream",
     "text": [
      "Accuracy of the KNN Model: 97.33%\n"
     ]
    }
   ],
   "source": [
    "X = df.drop('target', axis=1)\n",
    "y = df['target']\n",
    "X_train, X_test, y_train, y_test = train_test_split(X, y, test_size=0.75, random_state=42)\n",
    "knn = KNeighborsClassifier(n_neighbors=5)\n",
    "knn.fit(X_train, y_train)\n",
    "y_pred = knn.predict(X_test)\n",
    "accuracy = accuracy_score(y_test, y_pred)\n",
    "print(\"Accuracy of the KNN Model: {:.2f}%\".format(accuracy * 100))"
   ]
  },
  {
   "cell_type": "code",
   "execution_count": 46,
   "id": "6ccaf421",
   "metadata": {},
   "outputs": [
    {
     "name": "stdout",
     "output_type": "stream",
     "text": [
      "Accuracy of the Decision Tree Model: 84.45%\n"
     ]
    }
   ],
   "source": [
    "X = df.drop('target', axis=1)\n",
    "y = df['target']\n",
    "X_train, X_test, y_train, y_test = train_test_split(X, y, test_size=0.25, random_state=42)\n",
    "tree = DecisionTreeClassifier(max_depth=3, random_state=42)\n",
    "tree.fit(X_train, y_train)\n",
    "y_pred = tree.predict(X_test)\n",
    "accuracy = accuracy_score(y_test, y_pred)\n",
    "print(\"Accuracy of the Decision Tree Model: {:.2f}%\".format(accuracy * 100))"
   ]
  },
  {
   "cell_type": "code",
   "execution_count": 47,
   "id": "65f1525f",
   "metadata": {},
   "outputs": [
    {
     "name": "stdout",
     "output_type": "stream",
     "text": [
      "Accuracy of the Decision Tree Model: 84.83%\n"
     ]
    }
   ],
   "source": [
    "X = df.drop('target', axis=1)\n",
    "y = df['target']\n",
    "X_train, X_test, y_train, y_test = train_test_split(X, y, test_size=0.5, random_state=42)\n",
    "tree = DecisionTreeClassifier(max_depth=3, random_state=42)\n",
    "tree.fit(X_train, y_train)\n",
    "y_pred = tree.predict(X_test)\n",
    "accuracy = accuracy_score(y_test, y_pred)\n",
    "print(\"Accuracy of the Decision Tree Model: {:.2f}%\".format(accuracy * 100))"
   ]
  },
  {
   "cell_type": "code",
   "execution_count": 48,
   "id": "23ff8d23",
   "metadata": {},
   "outputs": [
    {
     "name": "stdout",
     "output_type": "stream",
     "text": [
      "Accuracy of the Decision Tree Model: 85.08%\n"
     ]
    }
   ],
   "source": [
    "X = df.drop('target', axis=1)\n",
    "y = df['target']\n",
    "X_train, X_test, y_train, y_test = train_test_split(X, y, test_size=0.75, random_state=42)\n",
    "tree = DecisionTreeClassifier(max_depth=3, random_state=42)\n",
    "tree.fit(X_train, y_train)\n",
    "y_pred = tree.predict(X_test)\n",
    "accuracy = accuracy_score(y_test, y_pred)\n",
    "print(\"Accuracy of the Decision Tree Model: {:.2f}%\".format(accuracy * 100))"
   ]
  },
  {
   "cell_type": "code",
   "execution_count": 49,
   "id": "e9c261b2",
   "metadata": {},
   "outputs": [
    {
     "name": "stdout",
     "output_type": "stream",
     "text": [
      "Accuracy of the Random forest Model: 87.20%\n"
     ]
    }
   ],
   "source": [
    "X = df.drop('target', axis=1)\n",
    "y = df['target']\n",
    "X_train, X_test, y_train, y_test = train_test_split(X, y, test_size=0.25, random_state=42)\n",
    "rf = RandomForestClassifier(n_estimators=100, max_depth=3, random_state=42)\n",
    "rf.fit(X_train, y_train)\n",
    "y_pred = rf.predict(X_test)\n",
    "accuracy = accuracy_score(y_test, y_pred)\n",
    "print(\"Accuracy of the Random forest Model: {:.2f}%\".format(accuracy * 100))"
   ]
  },
  {
   "cell_type": "code",
   "execution_count": 50,
   "id": "5b15488d",
   "metadata": {},
   "outputs": [
    {
     "name": "stdout",
     "output_type": "stream",
     "text": [
      "Accuracy of the Random forest Model: 87.29%\n"
     ]
    }
   ],
   "source": [
    "X = df.drop('target', axis=1)\n",
    "y = df['target']\n",
    "X_train, X_test, y_train, y_test = train_test_split(X, y, test_size=0.5, random_state=42)\n",
    "rf = RandomForestClassifier(n_estimators=100, max_depth=3, random_state=42)\n",
    "rf.fit(X_train, y_train)\n",
    "y_pred = rf.predict(X_test)\n",
    "accuracy = accuracy_score(y_test, y_pred)\n",
    "print(\"Accuracy of the Random forest Model: {:.2f}%\".format(accuracy * 100))"
   ]
  },
  {
   "cell_type": "code",
   "execution_count": 51,
   "id": "89a0cc77",
   "metadata": {},
   "outputs": [
    {
     "name": "stdout",
     "output_type": "stream",
     "text": [
      "Accuracy of the Random forest Model: 87.95%\n"
     ]
    }
   ],
   "source": [
    "X = df.drop('target', axis=1)\n",
    "y = df['target']\n",
    "X_train, X_test, y_train, y_test = train_test_split(X, y, test_size=0.75, random_state=42)\n",
    "rf = RandomForestClassifier(n_estimators=100, max_depth=3, random_state=42)\n",
    "rf.fit(X_train, y_train)\n",
    "y_pred = rf.predict(X_test)\n",
    "accuracy = accuracy_score(y_test, y_pred)\n",
    "print(\"Accuracy of the Random forest Model: {:.2f}%\".format(accuracy * 100))"
   ]
  },
  {
   "cell_type": "code",
   "execution_count": 62,
   "id": "ffbdcbb2",
   "metadata": {},
   "outputs": [
    {
     "name": "stdout",
     "output_type": "stream",
     "text": [
      "Accuracy of the Hybrid Model(KNN & RF): 96.20%\n"
     ]
    }
   ],
   "source": [
    "X = df.drop('target', axis=1)\n",
    "y = df['target']\n",
    "X_train, X_test, y_train, y_test = train_test_split(X, y, test_size=0.25, random_state=42)\n",
    "rf1 = RandomForestClassifier(n_estimators=100, max_depth=3, random_state=42)\n",
    "rf1.fit(X_train, y_train)\n",
    "knn1 = KNeighborsClassifier(n_neighbors=5)\n",
    "knn1.fit(X_train, y_train)\n",
    "y_pred_rf = rf1.predict(X_test)\n",
    "y_pred_knn = knn1.predict(X_test)\n",
    "y_pred_hybrid = []\n",
    "for i in range(len(y_test)):\n",
    "    if (y_pred_rf[i] + y_pred_knn[i]) > 1:\n",
    "        y_pred_hybrid.append(1)\n",
    "    else:\n",
    "        y_pred_hybrid.append(0)\n",
    "accuracy = accuracy_score(y_test, y_pred_hybrid)\n",
    "print(\"Accuracy of the Hybrid Model(KNN & RF): {:.2f}%\".format(accuracy * 100))"
   ]
  },
  {
   "cell_type": "code",
   "execution_count": 63,
   "id": "5d34ccb7",
   "metadata": {},
   "outputs": [
    {
     "name": "stdout",
     "output_type": "stream",
     "text": [
      "Accuracy of the Hybrid Model(KNN & RF): 96.28%\n"
     ]
    }
   ],
   "source": [
    "X = df.drop('target', axis=1)\n",
    "y = df['target']\n",
    "X_train, X_test, y_train, y_test = train_test_split(X, y, test_size=0.5, random_state=42)\n",
    "rf2 = RandomForestClassifier(n_estimators=100, max_depth=3, random_state=42)\n",
    "rf2.fit(X_train, y_train)\n",
    "knn2 = KNeighborsClassifier(n_neighbors=5)\n",
    "knn2.fit(X_train, y_train)\n",
    "y_pred_rf = rf2.predict(X_test)\n",
    "y_pred_knn = knn2.predict(X_test)\n",
    "y_pred_hybrid = []\n",
    "for i in range(len(y_test)):\n",
    "    if (y_pred_rf[i] + y_pred_knn[i]) > 1:\n",
    "        y_pred_hybrid.append(1)\n",
    "    else:\n",
    "        y_pred_hybrid.append(0)\n",
    "accuracy = accuracy_score(y_test, y_pred_hybrid)\n",
    "print(\"Accuracy of the Hybrid Model(KNN & RF): {:.2f}%\".format(accuracy * 100))"
   ]
  },
  {
   "cell_type": "code",
   "execution_count": 64,
   "id": "aaf6ad98",
   "metadata": {},
   "outputs": [
    {
     "name": "stdout",
     "output_type": "stream",
     "text": [
      "Accuracy of the Hybrid Model(KNN & RF): 95.03%\n"
     ]
    }
   ],
   "source": [
    "X = df.drop('target', axis=1)\n",
    "y = df['target']\n",
    "X_train, X_test, y_train, y_test = train_test_split(X, y, test_size=0.75, random_state=42)\n",
    "rf3 = RandomForestClassifier(n_estimators=100, max_depth=3, random_state=42)\n",
    "rf3.fit(X_train, y_train)\n",
    "knn3 = KNeighborsClassifier(n_neighbors=5)\n",
    "knn3.fit(X_train, y_train)\n",
    "y_pred_rf = rf3.predict(X_test)\n",
    "y_pred_knn = knn3.predict(X_test)\n",
    "y_pred_hybrid = []\n",
    "for i in range(len(y_test)):\n",
    "    if (y_pred_rf[i] + y_pred_knn[i]) > 1:\n",
    "        y_pred_hybrid.append(1)\n",
    "    else:\n",
    "        y_pred_hybrid.append(0)\n",
    "accuracy = accuracy_score(y_test, y_pred_hybrid)\n",
    "print(\"Accuracy of the Hybrid Model(KNN & RF): {:.2f}%\".format(accuracy * 100))"
   ]
  },
  {
   "cell_type": "code",
   "execution_count": 65,
   "id": "5d8d81d0",
   "metadata": {},
   "outputs": [
    {
     "name": "stdout",
     "output_type": "stream",
     "text": [
      "Accuracy of the Hybrid Model(RF & DT): 87.21%\n"
     ]
    }
   ],
   "source": [
    "X = df.drop('target', axis=1)\n",
    "y = df['target']\n",
    "X_train, X_test, y_train, y_test = train_test_split(X, y, test_size=0.25, random_state=42)\n",
    "rf1 = RandomForestClassifier(n_estimators=100, max_depth=3, random_state=42)\n",
    "rf1.fit(X_train, y_train)\n",
    "tree1 = DecisionTreeClassifier(max_depth=3, random_state=42)\n",
    "tree1.fit(X_train, y_train)\n",
    "y_pred_rf = rf1.predict(X_test)\n",
    "y_pred_tree = tree1.predict(X_test)\n",
    "y_pred_hybrid = []\n",
    "for i in range(len(y_test)):\n",
    "    if (y_pred_rf[i] + y_pred_tree[i]) >= 2:\n",
    "        y_pred_hybrid.append(1)\n",
    "    else:\n",
    "        y_pred_hybrid.append(0)\n",
    "accuracy = accuracy_score(y_test, y_pred_hybrid)\n",
    "print(\"Accuracy of the Hybrid Model(RF & DT): {:.2f}%\".format(accuracy * 100))"
   ]
  },
  {
   "cell_type": "code",
   "execution_count": 66,
   "id": "11820e57",
   "metadata": {},
   "outputs": [
    {
     "name": "stdout",
     "output_type": "stream",
     "text": [
      "Accuracy of the Hybrid Model(RF & DT): 88.04%\n"
     ]
    }
   ],
   "source": [
    "X = df.drop('target', axis=1)\n",
    "y = df['target']\n",
    "X_train, X_test, y_train, y_test = train_test_split(X, y, test_size=0.5, random_state=42)\n",
    "rf2 = RandomForestClassifier(n_estimators=100, max_depth=3, random_state=42)\n",
    "rf2.fit(X_train, y_train)\n",
    "tree2 = DecisionTreeClassifier(max_depth=3, random_state=42)\n",
    "tree2.fit(X_train, y_train)\n",
    "y_pred_rf = rf2.predict(X_test)\n",
    "y_pred_tree = tree2.predict(X_test)\n",
    "y_pred_hybrid = []\n",
    "for i in range(len(y_test)):\n",
    "    if (y_pred_rf[i] + y_pred_tree[i]) >= 2:\n",
    "        y_pred_hybrid.append(1)\n",
    "    else:\n",
    "        y_pred_hybrid.append(0)\n",
    "accuracy = accuracy_score(y_test, y_pred_hybrid)\n",
    "print(\"Accuracy of the Hybrid Model(RF & DT): {:.2f}%\".format(accuracy * 100))"
   ]
  },
  {
   "cell_type": "code",
   "execution_count": 67,
   "id": "3df03be4",
   "metadata": {},
   "outputs": [
    {
     "name": "stdout",
     "output_type": "stream",
     "text": [
      "Accuracy of the Hybrid Model(RF & DT): 88.88%\n"
     ]
    }
   ],
   "source": [
    "X = df.drop('target', axis=1)\n",
    "y = df['target']\n",
    "X_train, X_test, y_train, y_test = train_test_split(X, y, test_size=0.75, random_state=42)\n",
    "rf3 = RandomForestClassifier(n_estimators=100, max_depth=3, random_state=42)\n",
    "rf3.fit(X_train, y_train)\n",
    "tree3 = DecisionTreeClassifier(max_depth=3, random_state=42)\n",
    "tree3.fit(X_train, y_train)\n",
    "y_pred_rf = rf3.predict(X_test)\n",
    "y_pred_tree = tree3.predict(X_test)\n",
    "y_pred_hybrid = []\n",
    "for i in range(len(y_test)):\n",
    "    if (y_pred_rf[i] + y_pred_tree[i]) >= 2:\n",
    "        y_pred_hybrid.append(1)\n",
    "    else:\n",
    "        y_pred_hybrid.append(0)\n",
    "accuracy = accuracy_score(y_test, y_pred_hybrid)\n",
    "print(\"Accuracy of the Hybrid Model(RF & DT): {:.2f}%\".format(accuracy * 100))"
   ]
  },
  {
   "cell_type": "code",
   "execution_count": 68,
   "id": "feaafa18",
   "metadata": {},
   "outputs": [
    {
     "name": "stdout",
     "output_type": "stream",
     "text": [
      "Accuracy of the Hybrid Model(KNN & DT): 99.86%\n"
     ]
    }
   ],
   "source": [
    "X = df.drop('target', axis=1)\n",
    "y = df['target']\n",
    "X_train, X_test, y_train, y_test = train_test_split(X, y, test_size=0.25, random_state=42)\n",
    "knn1 = KNeighborsClassifier(n_neighbors=5)\n",
    "dt1 = DecisionTreeClassifier(max_depth=3, random_state=42)\n",
    "hybrid_model = VotingClassifier(estimators=[('knn1', knn), ('dt1', dt)], voting='soft')\n",
    "hybrid_model.fit(X_train, y_train)\n",
    "y_pred_hybrid = hybrid_model.predict(X_test)\n",
    "accuracy = accuracy_score(y_test, y_pred_hybrid)\n",
    "print(\"Accuracy of the Hybrid Model(KNN & DT): {:.2f}%\".format(accuracy * 100))"
   ]
  },
  {
   "cell_type": "code",
   "execution_count": 69,
   "id": "8337412c",
   "metadata": {},
   "outputs": [
    {
     "name": "stdout",
     "output_type": "stream",
     "text": [
      "Accuracy of the Hybrid Model(KNN & DT): 99.26%\n"
     ]
    }
   ],
   "source": [
    "X = df.drop('target', axis=1)\n",
    "y = df['target']\n",
    "X_train, X_test, y_train, y_test = train_test_split(X, y, test_size=0.5, random_state=42)\n",
    "knn2 = KNeighborsClassifier(n_neighbors=5)\n",
    "dt2 = DecisionTreeClassifier(max_depth=3, random_state=42)\n",
    "hybrid_model = VotingClassifier(estimators=[('knn2', knn), ('dt2', dt)], voting='soft')\n",
    "hybrid_model.fit(X_train, y_train)\n",
    "y_pred_hybrid = hybrid_model.predict(X_test)\n",
    "accuracy = accuracy_score(y_test, y_pred_hybrid)\n",
    "print(\"Accuracy of the Hybrid Model(KNN & DT): {:.2f}%\".format(accuracy * 100))"
   ]
  },
  {
   "cell_type": "code",
   "execution_count": 70,
   "id": "98f85b02",
   "metadata": {},
   "outputs": [
    {
     "name": "stdout",
     "output_type": "stream",
     "text": [
      "Accuracy of the Hybrid Model(KNN & DT): 97.72%\n"
     ]
    }
   ],
   "source": [
    "X = df.drop('target', axis=1)\n",
    "y = df['target']\n",
    "X_train, X_test, y_train, y_test = train_test_split(X, y, test_size=0.75, random_state=42)\n",
    "knn3 = KNeighborsClassifier(n_neighbors=5)\n",
    "dt3 = DecisionTreeClassifier(max_depth=3, random_state=42)\n",
    "hybrid_model = VotingClassifier(estimators=[('knn3', knn), ('dt3', dt)], voting='soft')\n",
    "hybrid_model.fit(X_train, y_train)\n",
    "y_pred_hybrid = hybrid_model.predict(X_test)\n",
    "accuracy = accuracy_score(y_test, y_pred_hybrid)\n",
    "print(\"Accuracy of the Hybrid Model(KNN & DT): {:.2f}%\".format(accuracy * 100))"
   ]
  },
  {
   "cell_type": "code",
   "execution_count": 71,
   "id": "1e5061a5",
   "metadata": {},
   "outputs": [
    {
     "name": "stdout",
     "output_type": "stream",
     "text": [
      "Accuracy of the Hybrid Model(KNN & RF & DT): 91.66%\n"
     ]
    }
   ],
   "source": [
    "voting_classifier = VotingClassifier(\n",
    "    estimators=[('dt1', dt), ('rf1', rf), ('knn1', knn)], voting='hard'\n",
    ")\n",
    "voting_classifier.fit(X_train, y_train)\n",
    "accuracy = voting_classifier.score(X_test, y_test)\n",
    "print(\"Accuracy of the Hybrid Model(KNN & RF & DT): {:.2f}%\".format(accuracy * 100))"
   ]
  },
  {
   "cell_type": "code",
   "execution_count": 72,
   "id": "aacd901c",
   "metadata": {},
   "outputs": [
    {
     "name": "stdout",
     "output_type": "stream",
     "text": [
      "Accuracy of the Hybrid Model(KNN & RF & DT): 91.66%\n"
     ]
    }
   ],
   "source": [
    "voting_classifier = VotingClassifier(\n",
    "    estimators=[('dt2', dt), ('rf2', rf), ('knn2', knn)], voting='hard'\n",
    ")\n",
    "voting_classifier.fit(X_train, y_train)\n",
    "accuracy = voting_classifier.score(X_test, y_test)\n",
    "print(\"Accuracy of the Hybrid Model(KNN & RF & DT): {:.2f}%\".format(accuracy * 100))"
   ]
  },
  {
   "cell_type": "code",
   "execution_count": 73,
   "id": "617e7269",
   "metadata": {},
   "outputs": [
    {
     "name": "stdout",
     "output_type": "stream",
     "text": [
      "Accuracy of the Hybrid Model(KNN & RF & DT): 91.66%\n"
     ]
    }
   ],
   "source": [
    "voting_classifier = VotingClassifier(\n",
    "    estimators=[('dt3', dt), ('rf3', rf), ('knn3', knn)], voting='hard'\n",
    ")\n",
    "voting_classifier.fit(X_train, y_train)\n",
    "accuracy = voting_classifier.score(X_test, y_test)\n",
    "print(\"Accuracy of the Hybrid Model(KNN & RF & DT): {:.2f}%\".format(accuracy * 100))"
   ]
  },
  {
   "cell_type": "code",
   "execution_count": 47,
   "id": "2728e4d8",
   "metadata": {},
   "outputs": [
    {
     "data": {
      "text/plain": [
       "<AxesSubplot:>"
      ]
     },
     "execution_count": 47,
     "metadata": {},
     "output_type": "execute_result"
    },
    {
     "data": {
      "image/png": "[encoded data removed]",
      "text/plain": [
       "<Figure size 432x288 with 2 Axes>"
      ]
     },
     "metadata": {
      "needs_background": "light"
     },
     "output_type": "display_data"
    }
   ],
   "source": [
    "attributes = ['age','sex','chol','restecg','ca','thal','target']\n",
    "corr_matrix = df[attributes].corr()\n",
    "sns.heatmap(corr_matrix, annot=True, cmap='coolwarm')"
   ]
  }
 ],
 "metadata": {
  "kernelspec": {
   "display_name": "Python 3 (ipykernel)",
   "language": "python",
   "name": "python3"
  },
  "language_info": {
   "codemirror_mode": {
    "name": "ipython",
    "version": 3
   },
   "file_extension": ".py",
   "mimetype": "text/x-python",
   "name": "python",
   "nbconvert_exporter": "python",
   "pygments_lexer": "ipython3",
   "version": "3.10.9"
  }
 },
 "nbformat": 4,
 "nbformat_minor": 5
}
